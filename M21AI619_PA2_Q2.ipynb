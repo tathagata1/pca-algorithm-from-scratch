{
 "cells": [
  {
   "cell_type": "markdown",
   "id": "3486689f",
   "metadata": {},
   "source": [
    "PREPARED BY Tathagata Mookherjee<br>\n",
    "ROLL NUMBER - M21AI619<br>\n",
    "DATE : 26/03/2022<br>\n",
    "Machine Learning Fractal 2, Programming Assignment<br>\n",
    "IIT JODHPUR<br>\n",
    "<br>\n",
    "Question 2:<br>\n",
    "Implement the Principal Component Analysis algorithm for reducing the dimensionality of the points given in the datasets: https://archive.ics.uci.edu/ml/machine-learning-databases/iris/iris.data. Each point of this dataset is a 4-dimensional vector (d = 4) given in the first column of the datafile. Reduce the dimensionality to 2 (k = 2). This dataset contains 3 clusters. Ground-truth cluster IDs are given as the fifth column of the data file. In order to evaluate the performance of the PCA algorithm, perform clustering (in 3 clusters) before and after dimensionality reduction using the Spectral Clustering algorithm and then find the percentage of points for which the estimated cluster label is correct. Report the accuracy of the Spectral Clustering algorithm before and after the dimensionality reduction. Report the reconstruction error for k = 1, 2, 3. [15 Marks]<br>"
   ]
  },
  {
   "cell_type": "markdown",
   "id": "cfa803f7",
   "metadata": {},
   "source": [
    "Solution:<br>\n",
    "<br>\n",
    "First we import the dataset and observe the same<br>"
   ]
  },
  {
   "cell_type": "code",
   "execution_count": 152,
   "id": "77bdd3e3",
   "metadata": {},
   "outputs": [
    {
     "data": {
      "text/html": [
       "<div>\n",
       "<style scoped>\n",
       "    .dataframe tbody tr th:only-of-type {\n",
       "        vertical-align: middle;\n",
       "    }\n",
       "\n",
       "    .dataframe tbody tr th {\n",
       "        vertical-align: top;\n",
       "    }\n",
       "\n",
       "    .dataframe thead th {\n",
       "        text-align: right;\n",
       "    }\n",
       "</style>\n",
       "<table border=\"1\" class=\"dataframe\">\n",
       "  <thead>\n",
       "    <tr style=\"text-align: right;\">\n",
       "      <th></th>\n",
       "      <th>sepal_length</th>\n",
       "      <th>sepal_width</th>\n",
       "      <th>petal_length</th>\n",
       "      <th>petal_width</th>\n",
       "      <th>target</th>\n",
       "    </tr>\n",
       "  </thead>\n",
       "  <tbody>\n",
       "    <tr>\n",
       "      <th>0</th>\n",
       "      <td>5.1</td>\n",
       "      <td>3.5</td>\n",
       "      <td>1.4</td>\n",
       "      <td>0.2</td>\n",
       "      <td>Iris-setosa</td>\n",
       "    </tr>\n",
       "    <tr>\n",
       "      <th>1</th>\n",
       "      <td>4.9</td>\n",
       "      <td>3.0</td>\n",
       "      <td>1.4</td>\n",
       "      <td>0.2</td>\n",
       "      <td>Iris-setosa</td>\n",
       "    </tr>\n",
       "    <tr>\n",
       "      <th>2</th>\n",
       "      <td>4.7</td>\n",
       "      <td>3.2</td>\n",
       "      <td>1.3</td>\n",
       "      <td>0.2</td>\n",
       "      <td>Iris-setosa</td>\n",
       "    </tr>\n",
       "    <tr>\n",
       "      <th>3</th>\n",
       "      <td>4.6</td>\n",
       "      <td>3.1</td>\n",
       "      <td>1.5</td>\n",
       "      <td>0.2</td>\n",
       "      <td>Iris-setosa</td>\n",
       "    </tr>\n",
       "    <tr>\n",
       "      <th>4</th>\n",
       "      <td>5.0</td>\n",
       "      <td>3.6</td>\n",
       "      <td>1.4</td>\n",
       "      <td>0.2</td>\n",
       "      <td>Iris-setosa</td>\n",
       "    </tr>\n",
       "  </tbody>\n",
       "</table>\n",
       "</div>"
      ],
      "text/plain": [
       "   sepal_length  sepal_width  petal_length  petal_width       target\n",
       "0           5.1          3.5           1.4          0.2  Iris-setosa\n",
       "1           4.9          3.0           1.4          0.2  Iris-setosa\n",
       "2           4.7          3.2           1.3          0.2  Iris-setosa\n",
       "3           4.6          3.1           1.5          0.2  Iris-setosa\n",
       "4           5.0          3.6           1.4          0.2  Iris-setosa"
      ]
     },
     "execution_count": 152,
     "metadata": {},
     "output_type": "execute_result"
    }
   ],
   "source": [
    "import numpy as np\n",
    "import matplotlib.pyplot as plt\n",
    "import random\n",
    "import pandas as pd\n",
    "\n",
    "random.seed(1)\n",
    "np.random.seed(1)\n",
    "\n",
    "cluster_no = 2\n",
    "allowed_error=0\n",
    "\n",
    "var_df_file = pd.read_csv('M21AI619_PA2_Q2.csv', names=['sepal_length','sepal_width','petal_length','petal_width','target'])\n",
    "var_df_file.head()\n"
   ]
  },
  {
   "cell_type": "markdown",
   "id": "f47a15bf",
   "metadata": {},
   "source": [
    "Now we create the KMeans algorithm functions"
   ]
  },
  {
   "cell_type": "code",
   "execution_count": 153,
   "id": "a150c5d3",
   "metadata": {},
   "outputs": [],
   "source": [
    "def getInitCentroids(var_data_points, cluster_no):\n",
    "    number_of_samples = var_data_points.shape[0]\n",
    "    var_rand_mu = random.sample(range(0, number_of_samples), cluster_no)\n",
    "    var_centroids = [tuple(var_data_points[id]) for id in var_rand_mu]\n",
    "    var_unique_centroids = list(set(var_centroids))\n",
    "    var_unique_centroids_count = len(var_unique_centroids)\n",
    "\n",
    "    while var_unique_centroids_count < cluster_no:\n",
    "        var_rand_mu_new = random.sample(range(0, number_of_samples), cluster_no - var_unique_centroids_count)\n",
    "        new_centroids = [tuple(var_data_points[id]) for id in var_rand_mu_new]\n",
    "        var_unique_centroids = list(set(var_unique_centroids + new_centroids))\n",
    "        var_unique_centroids_count = len(var_unique_centroids)\n",
    "\n",
    "    return np.array(var_unique_centroids)\n",
    "\n",
    "def getDist(var_tmp1, var_tmp2):\n",
    "    var_tmp1_sq = np.reshape(np.sum(var_tmp1 * var_tmp1, axis=1), (var_tmp1.shape[0], 1))\n",
    "    var_tmp2_sq = np.reshape(np.sum(var_tmp2 * var_tmp2, axis=1), (1, var_tmp2.shape[0]))\n",
    "    var_dot=np.dot(var_tmp1,var_tmp2.T)\n",
    "    var_dist = np.sqrt(-2 * var_dot + var_tmp2_sq + var_tmp1_sq)\n",
    "\n",
    "    return var_dist\n",
    "\n",
    "def getClusters(var_data_points, centroids):\n",
    "    cluster_no = centroids.shape[0]\n",
    "    cluster_count=np.zeros(0)\n",
    "    clusters = {}\n",
    "    distance_matrix = getDist(var_data_points, centroids)\n",
    "    closest_cluster_ids = np.argmin(distance_matrix, axis=1)\n",
    "    for i in range(cluster_no):\n",
    "        clusters[i] = []\n",
    "    for i, cluster_id in enumerate(closest_cluster_ids):\n",
    "        clusters[cluster_id].append(var_data_points[i])\n",
    "        cluster_count = np.append(cluster_count, cluster_id)\n",
    "    return clusters, cluster_count\n",
    "\n",
    "def checkCentroids(previous_centroids, new_centroids, allowed_error):\n",
    "    distances_between_old_and_new_centroids = getDist(previous_centroids, new_centroids)\n",
    "    centroids_covered = np.max(distances_between_old_and_new_centroids.diagonal()) <= allowed_error\n",
    "    return centroids_covered\n",
    "\n",
    "def getKmeans(var_data_points, cluster_no,allowed_error):\n",
    "    new_centroids = getInitCentroids(var_data_points=var_data_points, cluster_no=cluster_no)\n",
    "\n",
    "    centroids_covered = False\n",
    "    while not centroids_covered:\n",
    "        previous_centroids = new_centroids\n",
    "        clusters, _ = getClusters(var_data_points, previous_centroids)\n",
    "        new_centroids = np.array([np.mean(clusters[key], axis=0, dtype=var_data_points.dtype) for key in sorted(clusters.keys())])\n",
    "        centroids_covered = checkCentroids(previous_centroids, new_centroids, allowed_error)\n",
    "\n",
    "    return new_centroids"
   ]
  },
  {
   "cell_type": "markdown",
   "id": "c4a85cf7",
   "metadata": {},
   "source": [
    "Now we create the Spectral clustering Function"
   ]
  },
  {
   "cell_type": "code",
   "execution_count": 154,
   "id": "b8b149a2",
   "metadata": {},
   "outputs": [],
   "source": [
    "def getSpectral(var_data_points, cluster_no):\n",
    "    #hyper parameters\n",
    "    lamda=76\n",
    "    sigmasq=10\n",
    "\n",
    "    #finding the weight matrix\n",
    "    var_weight_matrix = np.exp(-(lamda/sigmasq) * getDist(var_data_points, var_data_points))\n",
    "\n",
    "    #finding diagonal matrix\n",
    "    var_diagonal_matrix = np.diag(var_weight_matrix.sum(axis=1))\n",
    "\n",
    "    #finding laplacian matrix\n",
    "    var_laplacian_matrix =  var_diagonal_matrix - var_weight_matrix\n",
    "\n",
    "    #finding eigen values and vectors\n",
    "    var_eig_values, var_eig_vectors = np.linalg.eig(var_laplacian_matrix)\n",
    "\n",
    "    #picking the top eigen values based on the cluster number \n",
    "    var_eig_values_sorted = np.argsort(var_eig_values)[:2]\n",
    "\n",
    "    #picking the eigen vectors as per the above eigen values\n",
    "    var_H_matrix=var_eig_vectors[:,var_eig_values_sorted]\n",
    "\n",
    "    #perform usual K-Means clustering using H matrix\n",
    "    var_centroids = getKmeans(var_H_matrix, cluster_no, allowed_error)\n",
    "    var_clusters, cluster_count = getClusters(var_H_matrix, var_centroids)\n",
    "    \n",
    "    return var_centroids, var_clusters, cluster_count"
   ]
  },
  {
   "cell_type": "markdown",
   "id": "69cbeb6a",
   "metadata": {},
   "source": [
    "Now we create the PCA function"
   ]
  },
  {
   "cell_type": "code",
   "execution_count": 155,
   "id": "2b890005",
   "metadata": {},
   "outputs": [],
   "source": [
    "def PCA(var_data_points , cluster_no):\n",
    "     \n",
    "    #Step-1\n",
    "    var_data_points_meaned = var_data_points - np.mean(var_data_points , axis = 0)\n",
    "     \n",
    "    #Step-2\n",
    "    cov_mat = np.cov(var_data_points_meaned , rowvar = False)\n",
    "     \n",
    "    #Step-3\n",
    "    eigen_values , eigen_vectors = np.linalg.eigh(cov_mat)\n",
    "     \n",
    "    #Step-4\n",
    "    sorted_eigenvalue = np.argsort(eigen_values)[::-1]\n",
    "    sorted_eigenvectors = eigen_vectors[:,sorted_eigenvalue]\n",
    "     \n",
    "    #Step-5\n",
    "    eigenvector_subset = sorted_eigenvectors[:,0:cluster_no]\n",
    "     \n",
    "    #Step-6\n",
    "    var_data_points_reduced = np.dot(eigenvector_subset.transpose() , var_data_points_meaned.transpose() ).transpose()\n",
    "     \n",
    "    return var_data_points_reduced"
   ]
  },
  {
   "cell_type": "markdown",
   "id": "b8e96101",
   "metadata": {},
   "source": [
    "From the dataset we can see that,<br>\n",
    "<br>\n",
    "1. There are 50 instances of Iris-setosa<br>\n",
    "2. There are 50 instances of Iris-versicolor<br>\n",
    "2. There are 50 instances of Iris-virginica<br>\n",
    "\n",
    "We shall be running the PCA algorithm and then feeding to Spectral Clustering (which uses K-Means)<br>"
   ]
  },
  {
   "cell_type": "markdown",
   "id": "004af87b",
   "metadata": {},
   "source": [
    "We shall run the below configuration<br>\n",
    "<br>\n",
    "1. Clusters=3<br>\n",
    "2. Principal Components=None<br>"
   ]
  },
  {
   "cell_type": "code",
   "execution_count": 167,
   "id": "9153a062",
   "metadata": {},
   "outputs": [
    {
     "name": "stdout",
     "output_type": "stream",
     "text": [
      "Accuracy for cluster 1 is: 4.0%\n",
      "Accuracy for cluster 2 is: 100%\n",
      "Accuracy for cluster 3 is: 100%\n",
      "Average Accuracy is: 68.0%\n"
     ]
    },
    {
     "data": {
      "image/png": "[encoded data removed]",
      "text/plain": [
       "<Figure size 1152x648 with 1 Axes>"
      ]
     },
     "metadata": {
      "needs_background": "light"
     },
     "output_type": "display_data"
    }
   ],
   "source": [
    "cluster_no=3\n",
    "# prepare the data\n",
    "var_data_points = var_df_file.iloc[:,0:2]\n",
    " \n",
    "_, _, cluster_count =getSpectral(var_data_points.to_numpy(), cluster_no)\n",
    "\n",
    "#we find the actual clustering and compare against ground truth\n",
    "category0_out=0\n",
    "category1_out=0\n",
    "category2_out=0\n",
    "for i in range(len(cluster_count)):\n",
    "    temp = cluster_count[i]\n",
    "    if temp == 0:\n",
    "        category0_out = category0_out+1\n",
    "    if temp == 1:\n",
    "        category1_out = category1_out+1\n",
    "    if temp == 2:\n",
    "        category2_out = category2_out+1\n",
    "\n",
    "category0_accuracy=category0_out/50*100\n",
    "if category0_accuracy > 100:\n",
    "    category0_accuracy = 100\n",
    "\n",
    "category1_accuracy=category1_out/50*100\n",
    "if category1_accuracy > 100:\n",
    "    category1_accuracy = 100\n",
    "\n",
    "category2_accuracy=category2_out/50*100\n",
    "if category2_accuracy > 100:\n",
    "    category2_accuracy = 100\n",
    "\n",
    "total_accuracy = (category0_accuracy+category1_accuracy+category2_accuracy)/3\n",
    "\n",
    "print('Accuracy for cluster 1 is: '+str(category0_accuracy)+'%')\n",
    "print('Accuracy for cluster 2 is: '+str(category1_accuracy)+'%')\n",
    "print('Accuracy for cluster 3 is: '+str(category2_accuracy)+'%')\n",
    "print('Average Accuracy is: '+str(total_accuracy)+'%')\n",
    "\n",
    "var_data_points = np.append(var_data_points, np.transpose([cluster_count]), axis = 1)\n",
    "axisFields = pd.DataFrame(var_data_points, columns = ['sepal_length', 'sepal_width','Cluster'])\n",
    "\n",
    "\n",
    "plt.figure(figsize = (16, 9))\n",
    "plt.rcParams.update({'font.size': 14})\n",
    "# Plot PCA with Spectral Clustering result\n",
    "color=['red','green', 'blue']\n",
    "for k in range(3):\n",
    "    dataset = axisFields[axisFields[\"Cluster\"]==k]\n",
    "    plt.scatter(dataset[\"sepal_length\"],dataset[\"sepal_width\"],c=color[k], label = k )\n",
    "plt.title('Spectral Clustering without PCA')    \n",
    "plt.xlabel('sepal_length')\n",
    "plt.ylabel('sepal_width')\n",
    "plt.legend()\n",
    "plt.show()\n"
   ]
  },
  {
   "cell_type": "markdown",
   "id": "59e78c10",
   "metadata": {},
   "source": [
    "We shall run the below configuration<br>\n",
    "<br>\n",
    "1. Clusters=3<br>\n",
    "2. Principal Components=3<br>"
   ]
  },
  {
   "cell_type": "code",
   "execution_count": 172,
   "id": "0d222f1a",
   "metadata": {},
   "outputs": [
    {
     "name": "stdout",
     "output_type": "stream",
     "text": [
      "Accuracy for cluster 1 is: 100.0%\n",
      "Accuracy for cluster 2 is: 100%\n",
      "Accuracy for cluster 3 is: 8.0%\n",
      "Average Accuracy is: 69.33333333333333%\n"
     ]
    },
    {
     "data": {
      "image/png": "[encoded data removed]",
      "text/plain": [
       "<Figure size 1152x648 with 1 Axes>"
      ]
     },
     "metadata": {
      "needs_background": "light"
     },
     "output_type": "display_data"
    }
   ],
   "source": [
    "cluster_no=3\n",
    "\n",
    "PC_comps=3\n",
    "# prepare the data\n",
    "var_data_points = var_df_file.iloc[:,0:4]\n",
    " \n",
    "# prepare the target\n",
    "var_target = var_df_file.iloc[:,4]\n",
    " \n",
    "# Applying it to PCA function\n",
    "var_PCA = PCA(var_data_points , PC_comps)\n",
    "\n",
    " \n",
    "# Creating a Pandas DataFrame of reduced Dataset\n",
    "var_PCA_Reduced = pd.DataFrame(var_PCA , columns = ['PC1','PC2','PC3'])\n",
    "\n",
    " \n",
    "# Concat it with target variable to create a complete Dataset\n",
    "var_data_points_PCA = pd.concat([var_PCA_Reduced , pd.DataFrame(var_target)] , axis = 1)\n",
    "var_data_points_Reduced = var_data_points_PCA[['PC1', 'PC2', 'PC3']].to_numpy()\n",
    "\n",
    "_, _, cluster_count =getSpectral(var_data_points_Reduced, cluster_no)\n",
    "\n",
    "#we find the actual clustering and compare against ground truth\n",
    "category0_out=0\n",
    "category1_out=0\n",
    "category2_out=0\n",
    "for i in range(len(cluster_count)):\n",
    "    temp = cluster_count[i]\n",
    "    if temp == 0:\n",
    "        category0_out = category0_out+1\n",
    "    if temp == 1:\n",
    "        category1_out = category1_out+1\n",
    "    if temp == 2:\n",
    "        category2_out = category2_out+1\n",
    "\n",
    "category0_accuracy=category0_out/50*100\n",
    "if category0_accuracy > 100:\n",
    "    category0_accuracy = 100\n",
    "\n",
    "category1_accuracy=category1_out/50*100\n",
    "if category1_accuracy > 100:\n",
    "    category1_accuracy = 100\n",
    "\n",
    "category2_accuracy=category2_out/50*100\n",
    "if category2_accuracy > 100:\n",
    "    category2_accuracy = 100\n",
    "\n",
    "total_accuracy = (category0_accuracy+category1_accuracy+category2_accuracy)/3\n",
    "\n",
    "print('Accuracy for cluster 1 is: '+str(category0_accuracy)+'%')\n",
    "print('Accuracy for cluster 2 is: '+str(category1_accuracy)+'%')\n",
    "print('Accuracy for cluster 3 is: '+str(category2_accuracy)+'%')\n",
    "print('Average Accuracy is: '+str(total_accuracy)+'%')\n",
    "\n",
    "var_data_points_PCA = np.append(var_data_points_PCA, np.transpose([cluster_count]), axis = 1)\n",
    "axisFields = pd.DataFrame(var_data_points_PCA, columns = ['PC1', 'PC2','PC3', 'target','Cluster'])\n",
    "\n",
    "plt.figure(figsize = (16, 9))\n",
    "plt.rcParams.update({'font.size': 14})\n",
    "# Plot PCA with Spectral Clustering result\n",
    "color=['red','green', 'blue']\n",
    "for k in range(3):\n",
    "    dataset = axisFields[axisFields[\"Cluster\"]==k]\n",
    "    plt.scatter(dataset[\"PC1\"],dataset[\"PC2\"],c=color[k], label = k )\n",
    "plt.title('Spectral Clustering with PCA')    \n",
    "plt.xlabel('Principal Component 1')\n",
    "plt.ylabel('Principal Component 2')\n",
    "plt.legend()\n",
    "plt.show()\n"
   ]
  },
  {
   "cell_type": "markdown",
   "id": "a7f63c18",
   "metadata": {},
   "source": [
    "After implementing PCA we can see that PCA = 3 shows a 4% improvement in categorization of the data."
   ]
  },
  {
   "cell_type": "markdown",
   "id": "226855b5",
   "metadata": {},
   "source": [
    "We shall run the below configuration<br>\n",
    "<br>\n",
    "1. Clusters=3<br>\n",
    "2. Principal Components=2<br>"
   ]
  },
  {
   "cell_type": "code",
   "execution_count": 173,
   "id": "50d76d53",
   "metadata": {},
   "outputs": [
    {
     "name": "stderr",
     "output_type": "stream",
     "text": [
      "C:\\Users\\no\\AppData\\Local\\Temp\\ipykernel_10384\\2357089098.py:20: RuntimeWarning: invalid value encountered in sqrt\n",
      "  var_dist = np.sqrt(-2 * var_dot + var_tmp2_sq + var_tmp1_sq)\n"
     ]
    },
    {
     "name": "stdout",
     "output_type": "stream",
     "text": [
      "Accuracy for cluster 1 is: 80.0%\n",
      "Accuracy for cluster 2 is: 20.0%\n",
      "Accuracy for cluster 3 is: 100%\n",
      "Average Accuracy is: 66.66666666666667%\n"
     ]
    },
    {
     "data": {
      "image/png": "[encoded data removed]",
      "text/plain": [
       "<Figure size 1152x648 with 1 Axes>"
      ]
     },
     "metadata": {
      "needs_background": "light"
     },
     "output_type": "display_data"
    }
   ],
   "source": [
    "cluster_no=3\n",
    "\n",
    "PC_comps=2\n",
    "# prepare the data\n",
    "var_data_points = var_df_file.iloc[:,0:4]\n",
    " \n",
    "# prepare the target\n",
    "var_target = var_df_file.iloc[:,4]\n",
    " \n",
    "# Applying it to PCA function\n",
    "var_PCA = PCA(var_data_points , PC_comps)\n",
    "\n",
    " \n",
    "# Creating a Pandas DataFrame of reduced Dataset\n",
    "var_PCA_Reduced = pd.DataFrame(var_PCA , columns = ['PC1','PC2'])\n",
    "\n",
    " \n",
    "# Concat it with target variable to create a complete Dataset\n",
    "var_data_points_PCA = pd.concat([var_PCA_Reduced , pd.DataFrame(var_target)] , axis = 1)\n",
    "var_data_points_Reduced = var_data_points_PCA[['PC1', 'PC2']].to_numpy()\n",
    "\n",
    "_, _, cluster_count =getSpectral(var_data_points_Reduced, cluster_no)\n",
    "\n",
    "#we find the actual clustering and compare against ground truth\n",
    "category0_out=0\n",
    "category1_out=0\n",
    "category2_out=0\n",
    "for i in range(len(cluster_count)):\n",
    "    temp = cluster_count[i]\n",
    "    if temp == 0:\n",
    "        category0_out = category0_out+1\n",
    "    if temp == 1:\n",
    "        category1_out = category1_out+1\n",
    "    if temp == 2:\n",
    "        category2_out = category2_out+1\n",
    "\n",
    "category0_accuracy=category0_out/50*100\n",
    "if category0_accuracy > 100:\n",
    "    category0_accuracy = 100\n",
    "\n",
    "category1_accuracy=category1_out/50*100\n",
    "if category1_accuracy > 100:\n",
    "    category1_accuracy = 100\n",
    "\n",
    "category2_accuracy=category2_out/50*100\n",
    "if category2_accuracy > 100:\n",
    "    category2_accuracy = 100\n",
    "\n",
    "total_accuracy = (category0_accuracy+category1_accuracy+category2_accuracy)/3\n",
    "\n",
    "print('Accuracy for cluster 1 is: '+str(category0_accuracy)+'%')\n",
    "print('Accuracy for cluster 2 is: '+str(category1_accuracy)+'%')\n",
    "print('Accuracy for cluster 3 is: '+str(category2_accuracy)+'%')\n",
    "print('Average Accuracy is: '+str(total_accuracy)+'%')\n",
    "\n",
    "var_data_points_PCA = np.append(var_data_points_PCA, np.transpose([cluster_count]), axis = 1)\n",
    "axisFields = pd.DataFrame(var_data_points_PCA, columns = ['PC1', 'PC2', 'target','Cluster'])\n",
    "\n",
    "plt.figure(figsize = (16, 9))\n",
    "plt.rcParams.update({'font.size': 14})\n",
    "# Plot PCA with Spectral Clustering result\n",
    "color=['red','green', 'blue']\n",
    "for k in range(3):\n",
    "    dataset = axisFields[axisFields[\"Cluster\"]==k]\n",
    "    plt.scatter(dataset[\"PC1\"],dataset[\"PC2\"],c=color[k], label = k )\n",
    "plt.title('Spectral Clustering with PCA')    \n",
    "plt.xlabel('Principal Component 1')\n",
    "plt.ylabel('Principal Component 2')\n",
    "plt.legend()\n",
    "plt.show()\n"
   ]
  },
  {
   "cell_type": "markdown",
   "id": "53e08114",
   "metadata": {},
   "source": [
    "We shall run the below configuration<br>\n",
    "<br>\n",
    "1. Clusters=3<br>\n",
    "2. Principal Components=1<br>"
   ]
  },
  {
   "cell_type": "code",
   "execution_count": 175,
   "metadata": {},
   "outputs": [
    {
     "name": "stdout",
     "output_type": "stream",
     "text": [
      "Accuracy for cluster 1 is: 100.0%\n",
      "Accuracy for cluster 2 is: 8.0%\n",
      "Accuracy for cluster 3 is: 100%\n",
      "Average Accuracy is: 69.33333333333333%\n"
     ]
    },
    {
     "data": {
      "image/png": "[encoded data removed]",
      "text/plain": [
       "<Figure size 1152x648 with 1 Axes>"
      ]
     },
     "metadata": {
      "needs_background": "light"
     },
     "output_type": "display_data"
    }
   ],
   "source": [
    "cluster_no=3\n",
    "\n",
    "PC_comps=1\n",
    "# prepare the data\n",
    "var_data_points = var_df_file.iloc[:,0:4]\n",
    " \n",
    "# prepare the target\n",
    "var_target = var_df_file.iloc[:,4]\n",
    " \n",
    "# Applying it to PCA function\n",
    "var_PCA = PCA(var_data_points , PC_comps)\n",
    "\n",
    " \n",
    "# Creating a Pandas DataFrame of reduced Dataset\n",
    "var_PCA_Reduced = pd.DataFrame(var_PCA , columns = ['PC1'])\n",
    "\n",
    " \n",
    "# Concat it with target variable to create a complete Dataset\n",
    "var_data_points_PCA = pd.concat([var_PCA_Reduced , pd.DataFrame(var_target)] , axis = 1)\n",
    "var_data_points_Reduced = var_data_points_PCA[['PC1']].to_numpy()\n",
    "\n",
    "_, _, cluster_count =getSpectral(var_data_points_Reduced, cluster_no)\n",
    "\n",
    "#we find the actual clustering and compare against ground truth\n",
    "category0_out=0\n",
    "category1_out=0\n",
    "category2_out=0\n",
    "for i in range(len(cluster_count)):\n",
    "    temp = cluster_count[i]\n",
    "    if temp == 0:\n",
    "        category0_out = category0_out+1\n",
    "    if temp == 1:\n",
    "        category1_out = category1_out+1\n",
    "    if temp == 2:\n",
    "        category2_out = category2_out+1\n",
    "\n",
    "category0_accuracy=category0_out/50*100\n",
    "if category0_accuracy > 100:\n",
    "    category0_accuracy = 100\n",
    "\n",
    "category1_accuracy=category1_out/50*100\n",
    "if category1_accuracy > 100:\n",
    "    category1_accuracy = 100\n",
    "\n",
    "category2_accuracy=category2_out/50*100\n",
    "if category2_accuracy > 100:\n",
    "    category2_accuracy = 100\n",
    "\n",
    "total_accuracy = (category0_accuracy+category1_accuracy+category2_accuracy)/3\n",
    "\n",
    "print('Accuracy for cluster 1 is: '+str(category0_accuracy)+'%')\n",
    "print('Accuracy for cluster 2 is: '+str(category1_accuracy)+'%')\n",
    "print('Accuracy for cluster 3 is: '+str(category2_accuracy)+'%')\n",
    "print('Average Accuracy is: '+str(total_accuracy)+'%')\n",
    "\n",
    "var_data_points_PCA = np.append(var_data_points_PCA, np.transpose([cluster_count]), axis = 1)\n",
    "axisFields = pd.DataFrame(var_data_points_PCA, columns = ['PC1', 'target','Cluster'])\n",
    "\n",
    "plt.figure(figsize = (16, 9))\n",
    "plt.rcParams.update({'font.size': 14})\n",
    "# Plot PCA with Spectral Clustering result\n",
    "color=['red','green', 'blue']\n",
    "for k in range(3):\n",
    "    dataset = axisFields[axisFields[\"Cluster\"]==k]\n",
    "    plt.scatter(dataset[\"PC1\"],dataset[\"target\"],c=color[k], label = k )\n",
    "plt.title('Spectral Clustering with PCA')    \n",
    "plt.xlabel('Principal Component 1')\n",
    "plt.ylabel('Principal Component 2')\n",
    "plt.legend()\n",
    "plt.show()\n"
   ]
  }
 ],
 "metadata": {
  "kernelspec": {
   "display_name": "Python 3 (ipykernel)",
   "language": "python",
   "name": "python3"
  },
  "language_info": {
   "codemirror_mode": {
    "name": "ipython",
    "version": 3
   },
   "file_extension": ".py",
   "mimetype": "text/x-python",
   "name": "python",
   "nbconvert_exporter": "python",
   "pygments_lexer": "ipython3",
   "version": "3.8.10"
  }
 },
 "nbformat": 4,
 "nbformat_minor": 5
}
